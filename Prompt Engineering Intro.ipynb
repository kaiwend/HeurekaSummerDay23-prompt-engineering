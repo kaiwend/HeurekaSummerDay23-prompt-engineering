{
 "cells": [
  {
   "cell_type": "code",
   "execution_count": 3,
   "metadata": {},
   "outputs": [],
   "source": [
    "import openai\n",
    "import os\n",
    "from dotenv import load_dotenv, find_dotenv\n",
    "_ = load_dotenv(find_dotenv())\n",
    "\n",
    "openai.api_key = os.getenv('OPENAI_API_KEY')"
   ]
  },
  {
   "cell_type": "code",
   "execution_count": 4,
   "metadata": {},
   "outputs": [],
   "source": [
    "def send_prompt(content, model=\"gpt-3.5-turbo\", temperature=0):\n",
    "    messages = [{\"role\": \"user\", \"content\": prompt}]\n",
    "    response = openai.ChatCompletion.create(\n",
    "        model=model,\n",
    "        messages=messages,\n",
    "        temperature=temperature,\n",
    "    )\n",
    "    return response.choices[0].message[\"content\"]"
   ]
  },
  {
   "cell_type": "markdown",
   "metadata": {},
   "source": [
    "# Prompting Principles"
   ]
  },
  {
   "cell_type": "markdown",
   "metadata": {},
   "source": [
    "## Clear Delimiters"
   ]
  },
  {
   "cell_type": "code",
   "execution_count": 5,
   "metadata": {},
   "outputs": [
    {
     "name": "stdout",
     "output_type": "stream",
     "text": [
      "\"The Lord of the Rings\" is a fantasy epic written by J.R.R. Tolkien. The story revolves around a powerful ring that holds immense power and the journey to destroy it. The ring was created by the Dark Lord Sauron, who seeks to regain its possession and use it to conquer Middle-earth.\n",
      "\n",
      "The story begins with the discovery of the ring by a hobbit named Bilbo Baggins. He passes it on to his nephew, Frodo, who is chosen to be the ring-bearer. Frodo is accompanied by a fellowship of diverse characters, including Gandalf the wizard, Aragorn the ranger, Legolas the elf, Gimli the dwarf, and several others.\n",
      "\n",
      "Their mission is to take the ring to Mount Doom, the only place where it can be destroyed. Along the way, they face numerous challenges and encounters with various creatures, such as orcs, trolls, and the corrupted men under Sauron's influence. They also encounter allies, such as the Ents, a race of tree-like beings, and the Riders of Rohan.\n",
      "\n",
      "As the journey progresses, Frodo and his companions face internal conflicts and external threats. The ring's power begins to corrupt Frodo, and the group faces betrayal and separation. Eventually, Frodo and his loyal companion, Samwise Gamgee, continue the perilous journey alone.\n",
      "\n",
      "Meanwhile, a parallel storyline unfolds as the remaining members of the fellowship engage in battles and alliances to distract Sauron's forces and give Frodo a chance to destroy the ring. The fate of Middle-earth hangs in the balance as the forces of good and evil clash in epic battles.\n",
      "\n",
      "Ultimately, Frodo and Sam reach Mount Doom, but Frodo succumbs to the ring's power and refuses to destroy it. Gollum, a creature obsessed with the ring, attacks Frodo, biting off his finger and falling into the fiery chasm with the ring. The destruction of the ring leads to Sauron's downfall, and the forces of evil are defeated.\n",
      "\n",
      "The story concludes with the hobbits returning to their homeland, the Shire, only to find it corrupted by evil. They lead a rebellion and restore peace to their land. The tale ends with Frodo, Gandalf, and other key characters departing Middle-earth, leaving behind a changed world.\n",
      "\n",
      "In summary, \"The Lord of the Rings\" is a complex and captivating story of a quest to destroy a powerful ring, filled with adventure, battles, and the triumph of good over evil.\n"
     ]
    }
   ],
   "source": [
    "text_to_summarize = f\"\"\"\n",
    "Write a short essay of about what is happening in the story \\\n",
    "of the lord of the rings\n",
    "\"\"\"\n",
    "\n",
    "prompt = f\"\"\"\n",
    "Summarize:\n",
    "{text_to_summarize}\n",
    "\"\"\"\n",
    "\n",
    "print(send_prompt(prompt))"
   ]
  },
  {
   "cell_type": "code",
   "execution_count": 6,
   "metadata": {},
   "outputs": [
    {
     "name": "stdout",
     "output_type": "stream",
     "text": [
      "The text is asking for a short essay summarizing the events of the story \"The Lord of the Rings.\"\n"
     ]
    }
   ],
   "source": [
    "text_to_summarize = f\"\"\"\n",
    "Write a short essay of about what is happening in the story \\\n",
    "of the lord of the rings\n",
    "\"\"\"\n",
    "\n",
    "prompt = f\"\"\"\n",
    "Summarize the text delimited by triple backticks:\n",
    "\n",
    "```{text_to_summarize}```\n",
    "\"\"\"\n",
    "\n",
    "print(send_prompt(prompt))"
   ]
  },
  {
   "cell_type": "markdown",
   "metadata": {},
   "source": [
    "## Structured Output"
   ]
  },
  {
   "cell_type": "code",
   "execution_count": 7,
   "metadata": {},
   "outputs": [
    {
     "name": "stdout",
     "output_type": "stream",
     "text": [
      "Step 1 - Grab the ring.\n",
      "Step 2 - Find companions before leaving for Mordor.\n",
      "Step 3 - Gather enough food and weapons.\n",
      "Step 4 - Start walking or riding east towards Mordor with everyone.\n",
      "Step 5 - Arrive at the large volcano in Mordor.\n",
      "Step 6 - Climb on top of the volcano.\n",
      "Step 7 - Throw the ring into the volcano.\n",
      "Step 8 - Congratulations, you are done!\n"
     ]
    }
   ],
   "source": [
    "text_to_structure = f\"\"\"\n",
    "Destroying the ring is easy! First of all you should grab the ring. \\\n",
    "Also you should probably not go alone but look for some companions \\\n",
    "before leaving for Mordor. Additionally you should also grab enough \\\n",
    "food and probably some weapons as well. The flowers are blooming and \\\n",
    "are beautiful. Gather everyone and start walking or riding east \\\n",
    "towards Mordor. Once you arrive there you will see a large volcano \\\n",
    "that you can not miss as it is the only one there. Climb on top of \\\n",
    "that and throw the ring in there. And Bäm, that's it - you are done.\n",
    "\"\"\"\n",
    "\n",
    "prompt = f\"\"\"\n",
    "You are provided with a text delimited by triple backticks. It \\\n",
    "contains a sequence of instructions, which should be re-written \\\n",
    "in the following format:\n",
    "\n",
    "Step 1 - ...\n",
    "Step 2 - ...\n",
    "...\n",
    "Step N - ...\n",
    "\n",
    "```{text_to_structure}```\n",
    "\"\"\"\n",
    "\n",
    "print(send_prompt(prompt))"
   ]
  },
  {
   "cell_type": "markdown",
   "metadata": {},
   "source": [
    "## Explicitly unsatisfied condition"
   ]
  },
  {
   "cell_type": "code",
   "execution_count": 9,
   "metadata": {},
   "outputs": [
    {
     "name": "stdout",
     "output_type": "stream",
     "text": [
      "Step 1 - The sun is shining brightly today, and the birds of middle earth are singing. It's a beautiful day to go to start the long journey to Mordor.\n",
      "Step 2 - The flowers are blooming, and the ents are swaying gently in the breeze. Elves, humans dwarves and hobbits are out and about, enjoying the lovely weather.\n",
      "Step 3 - Some are having picnics, while others are playing games or simply relaxing on the grass. It's a perfect day to spend time outdoors and appreciate the beauty of nature.\n"
     ]
    }
   ],
   "source": [
    "text_to_structure = f\"\"\"\n",
    "The sun is shining brightly today, and the birds of middle earth are \\\n",
    "singing. It's a beautiful day to go to start the long journey to Mordor \\ \n",
    "The flowers are blooming, and the ents are swaying gently in the breeze. \\\n",
    "Elves, humans dwarves and hobbits are out and about, enjoying the lovely \\\n",
    "weather. Some are having picnics, while others are playing games or \\\n",
    "simply relaxing on the grass. It's a perfect day to spend time outdoors \\\n",
    "and appreciate the beauty of nature.\n",
    "\"\"\"\n",
    "prompt = f\"\"\"\n",
    "You are provided with a text delimited by triple backticks. It \\\n",
    "contains a sequence of instructions, which should be re-written \\\n",
    "in the following format:\n",
    "\n",
    "Step 1 - ...\n",
    "Step 2 - …\n",
    "…\n",
    "Step N - …\n",
    "\n",
    "```{text_to_structure}```\n",
    "\"\"\"\n",
    "\n",
    "print(send_prompt(prompt))"
   ]
  },
  {
   "cell_type": "markdown",
   "metadata": {},
   "source": [
    "## Few-shot prompting"
   ]
  },
  {
   "cell_type": "code",
   "execution_count": 10,
   "metadata": {},
   "outputs": [
    {
     "name": "stdout",
     "output_type": "stream",
     "text": [
      "<grandparent>: Resilience is like a mighty oak tree that withstands the strongest storms, bending but never breaking. It is the unwavering determination to rise again after every fall, and the ability to find strength in the face of adversity. Just as a diamond is formed under immense pressure, resilience is forged through challenges and hardships, making us stronger and more resilient in the process.\n"
     ]
    }
   ],
   "source": [
    "topic = \"resilience\"\n",
    "prompt = f\"\"\"\n",
    "Your task is to answer in a consistent style.\n",
    "\n",
    "<child>: Teach me about patience.\n",
    "\n",
    "<grandparent>: The river that carves the deepest \\ \n",
    "valley flows from a modest spring; the \\ \n",
    "grandest symphony originates from a single note; \\ \n",
    "the most intricate tapestry begins with a solitary thread.\n",
    "\n",
    "<child>: Teach me about {topic}.\n",
    "\"\"\"\n",
    "\n",
    "print(send_prompt(prompt))"
   ]
  },
  {
   "cell_type": "markdown",
   "metadata": {},
   "source": [
    "## Temperature"
   ]
  },
  {
   "cell_type": "code",
   "execution_count": 12,
   "metadata": {},
   "outputs": [
    {
     "name": "stdout",
     "output_type": "stream",
     "text": [
      "<grandparent>: Resilience is the strength to withstand and bounce back from life's challenges. It is like a mighty tree that bends but never breaks in the face of a storm. It is the unwavering determination that allows us to rise again after every fall.\n"
     ]
    }
   ],
   "source": [
    "topic = \"resilience\"\n",
    "prompt = f\"\"\"\n",
    "Your task is to answer in a consistent style.\n",
    "\n",
    "<child>: Teach me about patience.\n",
    "\n",
    "<grandparent>: The river that carves the deepest \\ \n",
    "valley flows from a modest spring; the \\ \n",
    "grandest symphony originates from a single note; \\ \n",
    "the most intricate tapestry begins with a solitary thread.\n",
    "\n",
    "<child>: Teach me about {topic}.\n",
    "\"\"\"\n",
    "\n",
    "print(send_prompt(prompt, temperature=0.7))"
   ]
  },
  {
   "cell_type": "code",
   "execution_count": 17,
   "metadata": {},
   "outputs": [
    {
     "name": "stdout",
     "output_type": "stream",
     "text": [
      "n\n"
     ]
    }
   ],
   "source": [
    "prompt = \"\"\"\n",
    "She was a very friendly companion: p\n",
    "He was very dangerous to travel with: n\n",
    "It took really great care for her: p\n",
    "Rain was pouring down and everyone got wet: n\n",
    "She was dancing joyfully: p\n",
    "He fell and hurt his ankle: \n",
    "\"\"\"\n",
    "\n",
    "print(send_prompt(prompt, temperature=0.7))"
   ]
  },
  {
   "cell_type": "markdown",
   "metadata": {},
   "source": [
    "## Explicitly list steps to solution if known"
   ]
  },
  {
   "cell_type": "code",
   "execution_count": 18,
   "metadata": {},
   "outputs": [
    {
     "name": "stdout",
     "output_type": "stream",
     "text": [
      "1: Rewrite the presented sequence of instructions in the format step-n: <instruction>\n",
      "step-1: Destroying the ring is easy!\n",
      "step-2: First of all you should grab the ring.\n",
      "step-3: Also you should probably not go alone but look for some companions before leaving for Mordor.\n",
      "step-4: Additionally you should also grab enough food and probably some weapons as well.\n",
      "step-5: The flowers are blooming and are beautiful.\n",
      "step-6: Gather everyone and start walking or riding east towards Mordor.\n",
      "step-7: Once you arrive there you will see a large volcano that you can not miss as it is the only one there.\n",
      "step-8: Climb on top of that and throw the ring in there.\n",
      "step-9: And Bäm, that's it - you are done.\n",
      "\n",
      "2: Translate the instructions from the previous step into elvish, french and korean\n",
      "elvish:\n",
      "step-1: Dagoth i vilya i nána!\n",
      "step-2: Isto i vilya nána tenna.\n",
      "step-3: Lle isto naa ú-gwanno, ar lle naa ú-danna i chenthiel man i Mordor.\n",
      "step-4: Lle isto naa ú-danna i lamben, ar naa ú-danna i chenthiel man i Mordor.\n",
      "step-5: I lassë nána nána i lindë ar i calima.\n",
      "step-6: Hlarë i lamben ar hlarë i nér i oronti i Mordor.\n",
      "step-7: Oio i nána lle naa tara i núrë omenta, naa lle naa ú-anna i núrë omenta.\n",
      "step-8: Hlarë i nána i núrë omenta ar hlarë i vilya nána i núrë omenta.\n",
      "step-9: Ar Bäm, sina lle - lle naa.\n",
      "\n",
      "french:\n",
      "step-1: Détruire l'anneau est facile !\n",
      "step-2: Tout d'abord, vous devriez saisir l'anneau.\n",
      "step-3: Vous ne devriez probablement pas y aller seul, mais chercher des compagnons avant de partir pour Mordor.\n",
      "step-4: De plus, vous devriez également prendre suffisamment de nourriture et probablement aussi des armes.\n",
      "step-5: Les fleurs sont en train de fleurir et sont magnifiques.\n",
      "step-6: Rassemblez tout le monde et commencez à marcher ou à chevaucher vers l'est en direction de Mordor.\n",
      "step-7: Une fois que vous arrivez là-bas, vous verrez un grand volcan que vous ne pouvez pas manquer car il est le seul là-bas.\n",
      "step-8: Grimpez en haut de celui-ci et jetez l'anneau dedans.\n",
      "step-9: Et Bäm, c'est fini - vous avez terminé.\n",
      "\n",
      "korean:\n",
      "step-1: 반지를 파괴하는 것은 쉽습니다!\n",
      "step-2: 먼저 반지를 잡아야 합니다.\n",
      "step-3: 혼자 가지 않고 모르도르로 떠나기 전에 동행자를 찾아야 합니다.\n",
      "step-4: 또한 충분한 음식과 아마도 무기도 가져가야 합니다.\n",
      "step-5: 꽃들이 피어나고 아름답습니다.\n",
      "step-6: 모두를 모아 동쪽으로 걸어가거나 타고 모르도르로 향하세요.\n",
      "step-7: 도착하면 거기에 하나뿐인 큰 화산을 볼 수 있을 것입니다.\n",
      "step-8: 그 위로 올라가서 반지를 거기에 던져주세요.\n",
      "step-9: 그리고 바암, 끝났습니다 - 당신은 끝났습니다.\n",
      "\n",
      "3: Output the translations from 2 as a json object with the language as key and the translations inside in with step-n as key for example:\n",
      "{\n",
      "  \"elvish\": {\n",
      "    \"step-1\": \"Dagoth i vilya i nána!\",\n",
      "    \"step-2\": \"Isto i vilya nána tenna.\",\n",
      "    \"step-3\": \"Lle isto naa ú-gwanno, ar lle naa ú-danna i chenthiel man i Mordor.\",\n",
      "    \"step-4\": \"Lle isto naa ú-danna i lamben, ar naa ú-danna i chenthiel man i Mordor.\",\n",
      "    \"step-5\": \"I lassë nána nána i lindë ar i calima.\",\n",
      "    \"step-6\": \"Hlarë i lamben ar hlarë i nér i oronti i Mordor.\",\n",
      "    \"step-7\": \"Oio i nána lle naa tara i núrë omenta, naa lle naa ú-anna i núrë omenta.\",\n",
      "    \"step-8\": \"Hlarë i nána i núrë omenta ar hlarë i vilya nána i núrë omenta.\",\n",
      "    \"step-9\": \"Ar Bäm, sina lle - lle naa.\"\n",
      "  },\n",
      "  \"french\": {\n",
      "    \"step-1\": \"Détruire l'anneau est facile !\",\n",
      "    \"step-2\": \"Tout d'abord, vous devriez saisir l'anneau.\",\n",
      "    \"step-3\": \"Vous ne devriez probablement pas y aller seul, mais chercher des compagnons avant de partir pour Mordor.\",\n",
      "    \"step-4\": \"De plus, vous devriez également prendre suffisamment de nourriture et probablement aussi des armes.\",\n",
      "    \"step-5\": \"Les fleurs sont en train de fleurir et sont magnifiques.\",\n",
      "    \"step-6\": \"Rassemblez tout le monde et commencez à marcher ou à chevaucher vers l'est en direction de Mordor.\",\n",
      "    \"step-7\": \"Une fois que vous arrivez là-bas, vous verrez un grand volcan que vous ne pouvez pas manquer car il est le seul là-bas.\",\n",
      "    \"step-8\": \"Grimpez en haut de celui-ci et jetez l'anneau dedans.\",\n",
      "    \"step-9\": \"Et Bäm, c'est fini - vous avez terminé.\"\n",
      "  },\n",
      "  \"korean\": {\n",
      "    \"step-1\": \"반지를 파괴하는 것은 쉽습니다!\",\n",
      "    \"step-2\": \"먼저 반지를 잡아야 합니다.\",\n",
      "    \"step-3\": \"혼자 가지 않고 모르도르로 떠나기 전에 동행자를 찾아야 합니다.\",\n",
      "    \"step-4\": \"또한 충분한 음식과 아마도 무기도 가져가야 합니다.\",\n",
      "    \"step-5\": \"꽃들이 피어나고 아름답습니다.\",\n",
      "    \"step-6\": \"모두를 모아 동쪽으로 걸어가거나 타고 모르도르로 향하세요.\",\n",
      "    \"step-7\": \"도착하면 거기에 하나뿐인 큰 화산을 볼 수 있을 것입니다.\",\n",
      "    \"step-8\": \"그 위로 올라가서 반지를 거기에 던져주세요.\",\n",
      "    \"step-9\": \"그리고 바암, 끝났습니다 - 당신은 끝났습니다.\"\n",
      "  }\n",
      "}\n",
      "\n",
      "4: Output the json as a html table\n",
      "\n",
      "<table>\n",
      "  <tr>\n",
      "    <th>Language</th>\n",
      "    <th>step-1</th>\n",
      "    <th>step-2</th>\n",
      "    <th>step-3</th>\n",
      "    <th>step-4</th>\n",
      "    <th>step-5</th>\n",
      "    <th>step-6</th>\n",
      "    <th>step-7</th>\n",
      "    <th>step-8</th>\n",
      "    <th>step-9</th>\n",
      "  </tr>\n",
      "  <tr>\n",
      "    <td>elvish</td>\n",
      "    <td>Dagoth i vilya i nána!</td>\n",
      "    <td>Isto i vilya nána tenna.</td>\n",
      "    <td>Lle isto naa ú-gwanno, ar lle naa ú-danna i chenthiel man i Mordor.</td>\n",
      "    <td>Lle isto naa ú-danna i lamben, ar naa ú-danna i chenthiel man i Mordor.</td>\n",
      "    <td>I lassë nána nána i lindë ar i calima.</td>\n",
      "    <td>Hlarë i lamben ar hlarë i nér i oronti i Mordor.</td>\n",
      "    <td>Oio i nána lle naa tara i núrë omenta, naa lle naa ú-anna i núrë omenta.</td>\n",
      "    <td>Hlarë i nána i núrë omenta ar hlarë i vilya nána i núrë omenta.</td>\n",
      "    <td>Ar Bäm, sina lle - lle naa.</td>\n",
      "  </tr>\n",
      "  <tr>\n",
      "    <td>french</td>\n",
      "    <td>Détruire l'anneau est facile !</td>\n",
      "    <td>Tout d'abord, vous devriez saisir l'anneau.</td>\n",
      "    <td>Vous ne devriez probablement pas y aller seul, mais chercher des compagnons avant de partir pour Mordor.</td>\n",
      "    <td>De plus, vous devriez également prendre suffisamment de nourriture et probablement aussi des armes.</td>\n",
      "    <td>Les fleurs sont en train de fleurir et sont magnifiques.</td>\n",
      "    <td>Rassemblez tout le monde et commencez à marcher ou à chevaucher vers l'est en direction de Mordor.</td>\n",
      "    <td>Une fois que vous arrivez là-bas, vous verrez un grand volcan que vous ne pouvez pas manquer car il est le seul là-bas.</td>\n",
      "    <td>Grimpez en haut de celui-ci et jetez l'anneau dedans.</td>\n",
      "    <td>Et Bäm, c'est fini - vous avez terminé.</td>\n",
      "  </tr>\n",
      "  <tr>\n",
      "    <td>korean</td>\n",
      "    <td>반지를 파괴하는 것은 쉽습니다!</td>\n",
      "    <td>먼저 반지를 잡아야 합니다.</td>\n",
      "    <td>혼자 가지 않고 모르도르로 떠나기 전에 동행자를 찾아야 합니다.</td>\n",
      "    <td>또한 충분한 음식과 아마도 무기도 가져가야 합니다.</td>\n",
      "    <td>꽃들이 피어나고 아름답습니다.</td>\n",
      "    <td>모두를 모아 동쪽으로 걸어가거나 타고 모르도르로 향하세요.</td>\n",
      "    <td>도착하면 거기에 하나뿐인 큰 화산을 볼 수 있을 것입니다.</td>\n",
      "    <td>그 위로 올라가서 반지를 거기에 던져주세요.</td>\n",
      "    <td>그리고 바암, 끝났습니다 - 당신은 끝났습니다.</td>\n",
      "  </tr>\n",
      "</table>\n"
     ]
    }
   ],
   "source": [
    "instructions = f\"\"\"\n",
    "Destroying the ring is easy! First of all you should grab the ring. \\\n",
    "Also you should probably not go alone but look for some companions \\\n",
    "before leaving for Mordor. Additionally you should also grab enough \\\n",
    "food and probably some weapons as well. The flowers are blooming and \\\n",
    "are beautiful. Gather everyone and start walking or riding east \\\n",
    "towards Mordor. Once you arrive there you will see a large volcano \\\n",
    "that you can not miss as it is the only one there. Climb on top of \\\n",
    "that and throw the ring in there. And Bäm, that's it - you are done.\n",
    "\"\"\"\n",
    "\n",
    "prompt = f\"\"\"\n",
    "Your task is to perform the following sequence of instructions on \\\n",
    "the text in triple backticks: \\\n",
    "1: Rewrite the presented sequence of instructions in the format \\\n",
    "step-n: <instruction> \\\n",
    "2: Translate the instructions from the previous step into elvish, \\\n",
    "french and korean \\\n",
    "3: Output the translations from 2 as a json object with the language as key \\\n",
    "and the translations inside in with step-n as key for example:\n",
    "korean:\n",
    "  step-1: <instructions>\n",
    "  step-2: ...\n",
    "  ...\n",
    "  step-n: ...\n",
    "4: Output the json as a html table\n",
    "\n",
    "Text: ```{instructions}```\n",
    "\"\"\"\n",
    "\n",
    "print(send_prompt(prompt))"
   ]
  },
  {
   "cell_type": "code",
   "execution_count": 19,
   "metadata": {},
   "outputs": [
    {
     "data": {
      "text/html": [
       "\n",
       "<table>\n",
       "  <tr>\n",
       "    <th>Language</th>\n",
       "    <th>step-1</th>\n",
       "    <th>step-2</th>\n",
       "    <th>step-3</th>\n",
       "    <th>step-4</th>\n",
       "    <th>step-5</th>\n",
       "    <th>step-6</th>\n",
       "    <th>step-7</th>\n",
       "    <th>step-8</th>\n",
       "    <th>step-9</th>\n",
       "  </tr>\n",
       "  <tr>\n",
       "    <td>elvish</td>\n",
       "    <td>Dagoth i vilya i nána!</td>\n",
       "    <td>Isto i vilya nána tenna.</td>\n",
       "    <td>Lle isto naa ú-gwanno, ar lle naa ú-danna i chenthiel man i Mordor.</td>\n",
       "    <td>Lle isto naa ú-danna i lamben, ar naa ú-danna i chenthiel man i Mordor.</td>\n",
       "    <td>I lassë nána nána i lindë ar i calima.</td>\n",
       "    <td>Hlarë i lamben ar hlarë i nér i oronti i Mordor.</td>\n",
       "    <td>Oio i nána lle naa tara i núrë omenta, naa lle naa ú-anna i núrë omenta.</td>\n",
       "    <td>Hlarë i nána i núrë omenta ar hlarë i vilya nána i núrë omenta.</td>\n",
       "    <td>Ar Bäm, sina lle - lle naa.</td>\n",
       "  </tr>\n",
       "  <tr>\n",
       "    <td>french</td>\n",
       "    <td>Détruire l'anneau est facile !</td>\n",
       "    <td>Tout d'abord, vous devriez saisir l'anneau.</td>\n",
       "    <td>Vous ne devriez probablement pas y aller seul, mais chercher des compagnons avant de partir pour Mordor.</td>\n",
       "    <td>De plus, vous devriez également prendre suffisamment de nourriture et probablement aussi des armes.</td>\n",
       "    <td>Les fleurs sont en train de fleurir et sont magnifiques.</td>\n",
       "    <td>Rassemblez tout le monde et commencez à marcher ou à chevaucher vers l'est en direction de Mordor.</td>\n",
       "    <td>Une fois que vous arrivez là-bas, vous verrez un grand volcan que vous ne pouvez pas manquer car il est le seul là-bas.</td>\n",
       "    <td>Grimpez en haut de celui-ci et jetez l'anneau dedans.</td>\n",
       "    <td>Et Bäm, c'est fini - vous avez terminé.</td>\n",
       "  </tr>\n",
       "  <tr>\n",
       "    <td>korean</td>\n",
       "    <td>반지를 파괴하는 것은 쉽습니다!</td>\n",
       "    <td>먼저 반지를 잡아야 합니다.</td>\n",
       "    <td>혼자 가지 않고 모르도르로 떠나기 전에 동행자를 찾아야 합니다.</td>\n",
       "    <td>또한 충분한 음식과 아마도 무기도 가져가야 합니다.</td>\n",
       "    <td>꽃들이 피어나고 아름답습니다.</td>\n",
       "    <td>모두를 모아 동쪽으로 걸어가거나 타고 모르도르로 향하세요.</td>\n",
       "    <td>도착하면 거기에 하나뿐인 큰 화산을 볼 수 있을 것입니다.</td>\n",
       "    <td>그 위로 올라가서 반지를 거기에 던져주세요.</td>\n",
       "    <td>그리고 바암, 끝났습니다 - 당신은 끝났습니다.</td>\n",
       "  </tr>\n",
       "</table>\n"
      ],
      "text/plain": [
       "<IPython.core.display.HTML object>"
      ]
     },
     "metadata": {},
     "output_type": "display_data"
    }
   ],
   "source": [
    "from IPython.core.display import display, HTML\n",
    "html = f\"\"\"\n",
    "<table>\n",
    "  <tr>\n",
    "    <th>Language</th>\n",
    "    <th>step-1</th>\n",
    "    <th>step-2</th>\n",
    "    <th>step-3</th>\n",
    "    <th>step-4</th>\n",
    "    <th>step-5</th>\n",
    "    <th>step-6</th>\n",
    "    <th>step-7</th>\n",
    "    <th>step-8</th>\n",
    "    <th>step-9</th>\n",
    "  </tr>\n",
    "  <tr>\n",
    "    <td>elvish</td>\n",
    "    <td>Dagoth i vilya i nána!</td>\n",
    "    <td>Isto i vilya nána tenna.</td>\n",
    "    <td>Lle isto naa ú-gwanno, ar lle naa ú-danna i chenthiel man i Mordor.</td>\n",
    "    <td>Lle isto naa ú-danna i lamben, ar naa ú-danna i chenthiel man i Mordor.</td>\n",
    "    <td>I lassë nána nána i lindë ar i calima.</td>\n",
    "    <td>Hlarë i lamben ar hlarë i nér i oronti i Mordor.</td>\n",
    "    <td>Oio i nána lle naa tara i núrë omenta, naa lle naa ú-anna i núrë omenta.</td>\n",
    "    <td>Hlarë i nána i núrë omenta ar hlarë i vilya nána i núrë omenta.</td>\n",
    "    <td>Ar Bäm, sina lle - lle naa.</td>\n",
    "  </tr>\n",
    "  <tr>\n",
    "    <td>french</td>\n",
    "    <td>Détruire l'anneau est facile !</td>\n",
    "    <td>Tout d'abord, vous devriez saisir l'anneau.</td>\n",
    "    <td>Vous ne devriez probablement pas y aller seul, mais chercher des compagnons avant de partir pour Mordor.</td>\n",
    "    <td>De plus, vous devriez également prendre suffisamment de nourriture et probablement aussi des armes.</td>\n",
    "    <td>Les fleurs sont en train de fleurir et sont magnifiques.</td>\n",
    "    <td>Rassemblez tout le monde et commencez à marcher ou à chevaucher vers l'est en direction de Mordor.</td>\n",
    "    <td>Une fois que vous arrivez là-bas, vous verrez un grand volcan que vous ne pouvez pas manquer car il est le seul là-bas.</td>\n",
    "    <td>Grimpez en haut de celui-ci et jetez l'anneau dedans.</td>\n",
    "    <td>Et Bäm, c'est fini - vous avez terminé.</td>\n",
    "  </tr>\n",
    "  <tr>\n",
    "    <td>korean</td>\n",
    "    <td>반지를 파괴하는 것은 쉽습니다!</td>\n",
    "    <td>먼저 반지를 잡아야 합니다.</td>\n",
    "    <td>혼자 가지 않고 모르도르로 떠나기 전에 동행자를 찾아야 합니다.</td>\n",
    "    <td>또한 충분한 음식과 아마도 무기도 가져가야 합니다.</td>\n",
    "    <td>꽃들이 피어나고 아름답습니다.</td>\n",
    "    <td>모두를 모아 동쪽으로 걸어가거나 타고 모르도르로 향하세요.</td>\n",
    "    <td>도착하면 거기에 하나뿐인 큰 화산을 볼 수 있을 것입니다.</td>\n",
    "    <td>그 위로 올라가서 반지를 거기에 던져주세요.</td>\n",
    "    <td>그리고 바암, 끝났습니다 - 당신은 끝났습니다.</td>\n",
    "  </tr>\n",
    "</table>\n",
    "\"\"\"\n",
    "display(HTML(html))\n"
   ]
  },
  {
   "cell_type": "markdown",
   "metadata": {},
   "source": []
  },
  {
   "attachments": {
    "Screenshot%202023-08-17%20at%2022.05.20.png": {
     "image/png": "[encoded data removed]"
    }
   },
   "cell_type": "markdown",
   "metadata": {},
   "source": [
    "# With access to model\n",
    "![Screenshot%202023-08-17%20at%2022.05.20.png](attachment:Screenshot%202023-08-17%20at%2022.05.20.png)"
   ]
  },
  {
   "cell_type": "raw",
   "metadata": {},
   "source": []
  }
 ],
 "metadata": {
  "kernelspec": {
   "display_name": "Python 3",
   "language": "python",
   "name": "python3"
  },
  "language_info": {
   "codemirror_mode": {
    "name": "ipython",
    "version": 3
   },
   "file_extension": ".py",
   "mimetype": "text/x-python",
   "name": "python",
   "nbconvert_exporter": "python",
   "pygments_lexer": "ipython3",
   "version": "3.8.16"
  }
 },
 "nbformat": 4,
 "nbformat_minor": 4
}
